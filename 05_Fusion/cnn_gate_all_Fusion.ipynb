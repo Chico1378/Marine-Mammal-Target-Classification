{
 "cells": [
  {
   "cell_type": "code",
   "execution_count": 17,
   "metadata": {},
   "outputs": [
    {
     "name": "stderr",
     "output_type": "stream",
     "text": [
      "d:\\Venv\\envs\\TarRec\\Lib\\site-packages\\keras\\src\\models\\functional.py:238: UserWarning: The structure of `inputs` doesn't match the expected structure.\n",
      "Expected: ['input_layer_2']\n",
      "Received: inputs=Tensor(shape=(32, 128, 128, 1))\n",
      "  warnings.warn(msg)\n"
     ]
    },
    {
     "name": "stdout",
     "output_type": "stream",
     "text": [
      "\u001b[1m15/15\u001b[0m \u001b[32m━━━━━━━━━━━━━━━━━━━━\u001b[0m\u001b[37m\u001b[0m \u001b[1m1s\u001b[0m 47ms/step\n"
     ]
    },
    {
     "name": "stderr",
     "output_type": "stream",
     "text": [
      "d:\\Venv\\envs\\TarRec\\Lib\\site-packages\\keras\\src\\models\\functional.py:238: UserWarning: The structure of `inputs` doesn't match the expected structure.\n",
      "Expected: ['input_layer_2']\n",
      "Received: inputs=Tensor(shape=(None, 128, 128, 1))\n",
      "  warnings.warn(msg)\n"
     ]
    },
    {
     "name": "stdout",
     "output_type": "stream",
     "text": [
      "\u001b[1m 1/15\u001b[0m \u001b[32m━\u001b[0m\u001b[37m━━━━━━━━━━━━━━━━━━━\u001b[0m \u001b[1m2s\u001b[0m 203ms/step"
     ]
    },
    {
     "name": "stderr",
     "output_type": "stream",
     "text": [
      "d:\\Venv\\envs\\TarRec\\Lib\\site-packages\\keras\\src\\models\\functional.py:238: UserWarning: The structure of `inputs` doesn't match the expected structure.\n",
      "Expected: ['input_layer_2']\n",
      "Received: inputs=Tensor(shape=(32, 128, 128, 1, 1))\n",
      "  warnings.warn(msg)\n"
     ]
    },
    {
     "name": "stdout",
     "output_type": "stream",
     "text": [
      "\u001b[1m15/15\u001b[0m \u001b[32m━━━━━━━━━━━━━━━━━━━━\u001b[0m\u001b[37m\u001b[0m \u001b[1m1s\u001b[0m 45ms/step\n"
     ]
    },
    {
     "name": "stderr",
     "output_type": "stream",
     "text": [
      "d:\\Venv\\envs\\TarRec\\Lib\\site-packages\\keras\\src\\models\\functional.py:238: UserWarning: The structure of `inputs` doesn't match the expected structure.\n",
      "Expected: ['input_layer_2']\n",
      "Received: inputs=Tensor(shape=(None, 128, 128, 1, 1))\n",
      "  warnings.warn(msg)\n"
     ]
    },
    {
     "name": "stdout",
     "output_type": "stream",
     "text": [
      "\u001b[1m 3/15\u001b[0m \u001b[32m━━━━\u001b[0m\u001b[37m━━━━━━━━━━━━━━━━\u001b[0m \u001b[1m0s\u001b[0m 33ms/step "
     ]
    },
    {
     "name": "stderr",
     "output_type": "stream",
     "text": [
      "d:\\Venv\\envs\\TarRec\\Lib\\site-packages\\keras\\src\\models\\functional.py:238: UserWarning: The structure of `inputs` doesn't match the expected structure.\n",
      "Expected: ['input_layer_6']\n",
      "Received: inputs=Tensor(shape=(32, 128, 128, 1))\n",
      "  warnings.warn(msg)\n"
     ]
    },
    {
     "name": "stdout",
     "output_type": "stream",
     "text": [
      "\u001b[1m15/15\u001b[0m \u001b[32m━━━━━━━━━━━━━━━━━━━━\u001b[0m\u001b[37m\u001b[0m \u001b[1m1s\u001b[0m 48ms/step\n"
     ]
    },
    {
     "name": "stderr",
     "output_type": "stream",
     "text": [
      "d:\\Venv\\envs\\TarRec\\Lib\\site-packages\\keras\\src\\models\\functional.py:238: UserWarning: The structure of `inputs` doesn't match the expected structure.\n",
      "Expected: ['input_layer_6']\n",
      "Received: inputs=Tensor(shape=(None, 128, 128, 1))\n",
      "  warnings.warn(msg)\n"
     ]
    },
    {
     "name": "stdout",
     "output_type": "stream",
     "text": [
      "\u001b[1m4/4\u001b[0m \u001b[32m━━━━━━━━━━━━━━━━━━━━\u001b[0m\u001b[37m\u001b[0m \u001b[1m0s\u001b[0m 40ms/step\n",
      "\u001b[1m4/4\u001b[0m \u001b[32m━━━━━━━━━━━━━━━━━━━━\u001b[0m\u001b[37m\u001b[0m \u001b[1m0s\u001b[0m 39ms/step\n",
      "\u001b[1m4/4\u001b[0m \u001b[32m━━━━━━━━━━━━━━━━━━━━\u001b[0m\u001b[37m\u001b[0m \u001b[1m0s\u001b[0m 41ms/step\n",
      "Epoch 1/20\n",
      "\u001b[1m12/12\u001b[0m \u001b[32m━━━━━━━━━━━━━━━━━━━━\u001b[0m\u001b[37m\u001b[0m \u001b[1m2s\u001b[0m 38ms/step - accuracy: 0.6564 - loss: 0.7383 - val_accuracy: 1.0000 - val_loss: 0.1207 - learning_rate: 0.0010\n",
      "Epoch 2/20\n",
      "\u001b[1m12/12\u001b[0m \u001b[32m━━━━━━━━━━━━━━━━━━━━\u001b[0m\u001b[37m\u001b[0m \u001b[1m0s\u001b[0m 11ms/step - accuracy: 0.9819 - loss: 0.1163 - val_accuracy: 1.0000 - val_loss: 0.0270 - learning_rate: 0.0010\n",
      "Epoch 3/20\n",
      "\u001b[1m12/12\u001b[0m \u001b[32m━━━━━━━━━━━━━━━━━━━━\u001b[0m\u001b[37m\u001b[0m \u001b[1m0s\u001b[0m 12ms/step - accuracy: 0.9927 - loss: 0.0398 - val_accuracy: 1.0000 - val_loss: 0.0120 - learning_rate: 0.0010\n",
      "Epoch 4/20\n",
      "\u001b[1m12/12\u001b[0m \u001b[32m━━━━━━━━━━━━━━━━━━━━\u001b[0m\u001b[37m\u001b[0m \u001b[1m0s\u001b[0m 12ms/step - accuracy: 0.9879 - loss: 0.0378 - val_accuracy: 1.0000 - val_loss: 0.0037 - learning_rate: 0.0010\n",
      "Epoch 5/20\n",
      "\u001b[1m12/12\u001b[0m \u001b[32m━━━━━━━━━━━━━━━━━━━━\u001b[0m\u001b[37m\u001b[0m \u001b[1m0s\u001b[0m 12ms/step - accuracy: 0.9927 - loss: 0.0137 - val_accuracy: 1.0000 - val_loss: 5.4333e-04 - learning_rate: 0.0010\n",
      "Epoch 6/20\n",
      "\u001b[1m12/12\u001b[0m \u001b[32m━━━━━━━━━━━━━━━━━━━━\u001b[0m\u001b[37m\u001b[0m \u001b[1m0s\u001b[0m 27ms/step - accuracy: 1.0000 - loss: 0.0012 - val_accuracy: 1.0000 - val_loss: 2.9053e-04 - learning_rate: 0.0010\n",
      "Epoch 7/20\n",
      "\u001b[1m12/12\u001b[0m \u001b[32m━━━━━━━━━━━━━━━━━━━━\u001b[0m\u001b[37m\u001b[0m \u001b[1m0s\u001b[0m 18ms/step - accuracy: 1.0000 - loss: 5.8383e-04 - val_accuracy: 1.0000 - val_loss: 2.4997e-04 - learning_rate: 0.0010\n",
      "Epoch 8/20\n",
      "\u001b[1m12/12\u001b[0m \u001b[32m━━━━━━━━━━━━━━━━━━━━\u001b[0m\u001b[37m\u001b[0m \u001b[1m0s\u001b[0m 11ms/step - accuracy: 1.0000 - loss: 2.8984e-04 - val_accuracy: 1.0000 - val_loss: 2.0119e-04 - learning_rate: 0.0010\n",
      "Epoch 9/20\n",
      "\u001b[1m12/12\u001b[0m \u001b[32m━━━━━━━━━━━━━━━━━━━━\u001b[0m\u001b[37m\u001b[0m \u001b[1m0s\u001b[0m 31ms/step - accuracy: 1.0000 - loss: 2.2282e-04 - val_accuracy: 1.0000 - val_loss: 1.8193e-04 - learning_rate: 0.0010\n",
      "Epoch 10/20\n",
      "\u001b[1m12/12\u001b[0m \u001b[32m━━━━━━━━━━━━━━━━━━━━\u001b[0m\u001b[37m\u001b[0m \u001b[1m0s\u001b[0m 19ms/step - accuracy: 1.0000 - loss: 1.9582e-04 - val_accuracy: 1.0000 - val_loss: 1.8593e-04 - learning_rate: 0.0010\n",
      "Epoch 11/20\n",
      "\u001b[1m12/12\u001b[0m \u001b[32m━━━━━━━━━━━━━━━━━━━━\u001b[0m\u001b[37m\u001b[0m \u001b[1m0s\u001b[0m 19ms/step - accuracy: 1.0000 - loss: 1.5560e-04 - val_accuracy: 1.0000 - val_loss: 2.6217e-04 - learning_rate: 0.0010\n",
      "Epoch 12/20\n",
      "\u001b[1m12/12\u001b[0m \u001b[32m━━━━━━━━━━━━━━━━━━━━\u001b[0m\u001b[37m\u001b[0m \u001b[1m0s\u001b[0m 29ms/step - accuracy: 1.0000 - loss: 2.0111e-04 - val_accuracy: 1.0000 - val_loss: 3.2676e-04 - learning_rate: 0.0010\n",
      "Epoch 13/20\n",
      "\u001b[1m12/12\u001b[0m \u001b[32m━━━━━━━━━━━━━━━━━━━━\u001b[0m\u001b[37m\u001b[0m \u001b[1m0s\u001b[0m 14ms/step - accuracy: 1.0000 - loss: 1.3145e-04 - val_accuracy: 1.0000 - val_loss: 3.5371e-04 - learning_rate: 0.0010\n",
      "Epoch 14/20\n",
      "\u001b[1m12/12\u001b[0m \u001b[32m━━━━━━━━━━━━━━━━━━━━\u001b[0m\u001b[37m\u001b[0m \u001b[1m0s\u001b[0m 20ms/step - accuracy: 1.0000 - loss: 4.9653e-05 - val_accuracy: 1.0000 - val_loss: 3.6160e-04 - learning_rate: 0.0010\n",
      "Epoch 15/20\n",
      "\u001b[1m12/12\u001b[0m \u001b[32m━━━━━━━━━━━━━━━━━━━━\u001b[0m\u001b[37m\u001b[0m \u001b[1m0s\u001b[0m 18ms/step - accuracy: 1.0000 - loss: 6.9298e-05 - val_accuracy: 1.0000 - val_loss: 3.5096e-04 - learning_rate: 5.0000e-04\n",
      "Epoch 16/20\n",
      "\u001b[1m12/12\u001b[0m \u001b[32m━━━━━━━━━━━━━━━━━━━━\u001b[0m\u001b[37m\u001b[0m \u001b[1m0s\u001b[0m 16ms/step - accuracy: 1.0000 - loss: 9.2092e-05 - val_accuracy: 1.0000 - val_loss: 3.2886e-04 - learning_rate: 5.0000e-04\n",
      "Epoch 17/20\n",
      "\u001b[1m12/12\u001b[0m \u001b[32m━━━━━━━━━━━━━━━━━━━━\u001b[0m\u001b[37m\u001b[0m \u001b[1m0s\u001b[0m 14ms/step - accuracy: 1.0000 - loss: 1.3856e-04 - val_accuracy: 1.0000 - val_loss: 3.2218e-04 - learning_rate: 5.0000e-04\n",
      "Epoch 18/20\n",
      "\u001b[1m12/12\u001b[0m \u001b[32m━━━━━━━━━━━━━━━━━━━━\u001b[0m\u001b[37m\u001b[0m \u001b[1m0s\u001b[0m 13ms/step - accuracy: 1.0000 - loss: 5.8934e-05 - val_accuracy: 1.0000 - val_loss: 3.0632e-04 - learning_rate: 5.0000e-04\n",
      "Epoch 19/20\n",
      "\u001b[1m12/12\u001b[0m \u001b[32m━━━━━━━━━━━━━━━━━━━━\u001b[0m\u001b[37m\u001b[0m \u001b[1m0s\u001b[0m 12ms/step - accuracy: 1.0000 - loss: 7.3982e-05 - val_accuracy: 1.0000 - val_loss: 3.0880e-04 - learning_rate: 5.0000e-04\n",
      "4/4 - 0s - 15ms/step - accuracy: 0.8376 - loss: 1.6243\n",
      "\n",
      "✅ 动态门控融合模型测试集准确率: 0.8376\n",
      "\u001b[1m4/4\u001b[0m \u001b[32m━━━━━━━━━━━━━━━━━━━━\u001b[0m\u001b[37m\u001b[0m \u001b[1m0s\u001b[0m 34ms/step\n",
      "\n",
      "📊 分类报告:\n",
      "              precision    recall  f1-score   support\n",
      "\n",
      "           0       0.96      0.64      0.77        39\n",
      "           1       0.81      0.97      0.88        39\n",
      "           2       0.80      0.90      0.84        39\n",
      "\n",
      "    accuracy                           0.84       117\n",
      "   macro avg       0.86      0.84      0.83       117\n",
      "weighted avg       0.86      0.84      0.83       117\n",
      "\n"
     ]
    },
    {
     "data": {
      "image/png": "[encoded data removed]",
      "text/plain": [
       "<Figure size 800x600 with 2 Axes>"
      ]
     },
     "metadata": {},
     "output_type": "display_data"
    },
    {
     "name": "stdout",
     "output_type": "stream",
     "text": [
      "✅ 动态门控融合模型已保存为 cnn_gate_fusion_with_snr_lhr_weights.keras\n"
     ]
    }
   ],
   "source": [
    "import os\n",
    "import random\n",
    "import numpy as np\n",
    "import tensorflow as tf\n",
    "from tensorflow.keras.models import Model, load_model\n",
    "from tensorflow.keras.layers import Input, Dense, Dropout, Concatenate,Layer\n",
    "from tensorflow.keras.utils import to_categorical\n",
    "from tensorflow.keras.optimizers import Adam\n",
    "from tensorflow.keras.callbacks import EarlyStopping, ReduceLROnPlateau\n",
    "from sklearn.metrics import classification_report, confusion_matrix\n",
    "import seaborn as sns\n",
    "import matplotlib.pyplot as plt\n",
    "\n",
    "\n",
    "# **自定义加权融合层**\n",
    "class WeightedFusionLayer(Layer):\n",
    "    def __init__(self, **kwargs):\n",
    "        super(WeightedFusionLayer, self).__init__(**kwargs)\n",
    "\n",
    "    def call(self, inputs):\n",
    "        gate_output, x_mfcc, x_wavelet, x_dd = inputs\n",
    "\n",
    "        # 对每个特征进行加权\n",
    "        weighted_mfcc = tf.multiply(gate_output[:, 0:1], x_mfcc)\n",
    "        weighted_wavelet = tf.multiply(gate_output[:, 1:2], x_wavelet)\n",
    "        weighted_dd = tf.multiply(gate_output[:, 2:3], x_dd)\n",
    "\n",
    "        # 将加权后的特征连接在一起\n",
    "        return tf.concat([weighted_mfcc, weighted_wavelet, weighted_dd], axis=-1)\n",
    "\n",
    "# **设置随机种子**\n",
    "SEED = 400   #300的时候效果不错\n",
    "np.random.seed(SEED)\n",
    "tf.random.set_seed(SEED)\n",
    "random.seed(SEED)\n",
    "os.environ['PYTHONHASHSEED'] = str(SEED)\n",
    "\n",
    "# **1️⃣ 加载训练好的 CNN 模型**\n",
    "model_mfcc = load_model(r\"D:\\Dataset\\Marine-Mammal-Target-Classification\\03_CNN\\cnn_MFCC_model.keras\")\n",
    "model_wavelet = load_model(r\"D:\\Dataset\\Marine-Mammal-Target-Classification\\03_CNN\\cnn_wavelet_model_abs.keras\")\n",
    "model_dd = load_model(r\"D:\\Dataset\\Marine-Mammal-Target-Classification\\03_CNN\\cnn_DelayDoppler_model.keras\")\n",
    "\n",
    "# **2️⃣ 提取特征层**\n",
    "feature_extractor_mfcc = Model(inputs=model_mfcc.inputs, outputs=model_mfcc.get_layer(\"dense_4\").output)\n",
    "feature_extractor_wavelet = Model(inputs=model_wavelet.inputs, outputs=model_wavelet.get_layer(\"dense_4\").output)\n",
    "feature_extractor_dd = Model(inputs=model_dd.inputs, outputs=model_dd.get_layer(\"dense_12\").output)\n",
    "\n",
    "# **3️⃣ 加载训练数据和测试数据**\n",
    "X_train_mfcc = np.load(r\"D:\\Dataset\\Temp_Results\\MFCC\\X_train_mfcc_cnn.npy\")\n",
    "X_train_wavelet = np.load(r\"D:\\Dataset\\Temp_Results\\Wavelet\\X_train_cwt_abs.npy\")\n",
    "X_train_wavelet = np.expand_dims(X_train_wavelet, axis=-1)\n",
    "X_train_dd = np.load(r\"D:\\Dataset\\Temp_Results\\DelayDoppler\\X_train_dd_cnn.npy\")\n",
    "Y_train = np.load(r\"D:\\Dataset\\Temp_Results\\Train_Test\\y_train.npy\")\n",
    "\n",
    "X_test_mfcc = np.load(r\"D:\\Dataset\\Temp_Results\\MFCC\\X_test_mfcc_cnn.npy\")\n",
    "X_test_wavelet = np.load(r\"D:\\Dataset\\Temp_Results\\Wavelet\\X_test_cwt_abs.npy\")\n",
    "X_test_wavelet = np.expand_dims(X_test_wavelet, axis=-1)\n",
    "X_test_dd = np.load(r\"D:\\Dataset\\Temp_Results\\DelayDoppler\\X_test_dd_cnn.npy\")\n",
    "Y_test = np.load(r\"D:\\Dataset\\Temp_Results\\Train_Test\\y_test.npy\")\n",
    "\n",
    "# **4️⃣ 归一化数据**\n",
    "X_train_mfcc = X_train_mfcc.astype(np.float32) / 255.0\n",
    "X_train_wavelet = X_train_wavelet.astype(np.float32) / 255.0\n",
    "X_train_dd = X_train_dd.astype(np.float32) / 255.0\n",
    "\n",
    "X_test_mfcc = X_test_mfcc.astype(np.float32) / 255.0\n",
    "X_test_wavelet = X_test_wavelet.astype(np.float32) / 255.0\n",
    "X_test_dd = X_test_dd.astype(np.float32) / 255.0\n",
    "\n",
    "# **5️⃣ 提取三个模型的特征**\n",
    "features_train_mfcc = feature_extractor_mfcc.predict(X_train_mfcc)\n",
    "features_train_wavelet = feature_extractor_wavelet.predict(X_train_wavelet)\n",
    "features_train_dd = feature_extractor_dd.predict(X_train_dd)\n",
    "\n",
    "features_test_mfcc = feature_extractor_mfcc.predict(X_test_mfcc)\n",
    "features_test_wavelet = feature_extractor_wavelet.predict(X_test_wavelet)\n",
    "features_test_dd = feature_extractor_dd.predict(X_test_dd)\n",
    "\n",
    "# **6️⃣ 加载 SNR 和 LHR**\n",
    "snr_lhr_train = np.load(r\"D:\\Dataset\\Temp_Results\\SNRandLHR\\SNR_LHR_train.npy\", allow_pickle=True)\n",
    "snr_lhr_test = np.load(r\"D:\\Dataset\\Temp_Results\\SNRandLHR\\SNR_LHR_test.npy\", allow_pickle=True)\n",
    "\n",
    "# **7️⃣ 处理标签**\n",
    "num_classes = len(np.unique(Y_train))\n",
    "Y_train = to_categorical(Y_train, num_classes)\n",
    "Y_test = to_categorical(Y_test, num_classes)\n",
    "\n",
    "# **8️⃣ 提取 SNR 和 LHR 特征**\n",
    "snr_lhr_train_features = np.array([row[1:] for row in snr_lhr_train], dtype=np.float32)\n",
    "snr_lhr_test_features = np.array([row[1:] for row in snr_lhr_test], dtype=np.float32)\n",
    "\n",
    "# **9️⃣ 创建输入层和门控网络**\n",
    "input_mfcc = Input(shape=(features_train_mfcc.shape[1],), name=\"input_mfcc\")\n",
    "input_wavelet = Input(shape=(features_train_wavelet.shape[1],), name=\"input_wavelet\")\n",
    "input_dd = Input(shape=(features_train_dd.shape[1],), name=\"input_dd\")\n",
    "input_snr_lhr = Input(shape=(snr_lhr_train_features.shape[1],), name=\"input_snr_lhr\")\n",
    "\n",
    "# 将每个输入层传入各自的全连接层进行处理\n",
    "x_mfcc = Dense(128, activation='relu')(input_mfcc)\n",
    "x_wavelet = Dense(128, activation='relu')(input_wavelet)\n",
    "x_dd = Dense(128, activation='relu')(input_dd)\n",
    "\n",
    "# **10️⃣ 门控网络**\n",
    "x_snr_lhr = Dense(64, activation='relu')(input_snr_lhr)\n",
    "gate_output = Dense(3, activation='softmax', name=\"gate_output\")(x_snr_lhr)\n",
    "\n",
    "# **11️⃣ 将门控网络与特征网络连接**\n",
    "# 使用门控网络的输出对三个特征进行加权融合\n",
    "weighted_features = WeightedFusionLayer()([gate_output, x_mfcc, x_wavelet, x_dd])\n",
    "\n",
    "# 进行一些后续处理\n",
    "x = Dense(128, activation='relu')(weighted_features)\n",
    "x = Dropout(0.4)(x)\n",
    "x = Dense(num_classes, activation='softmax')(x)\n",
    "\n",
    "# **12️⃣ 创建最终的融合模型**\n",
    "dynamic_fusion_model = Model(inputs=[input_mfcc, input_wavelet, input_dd, input_snr_lhr], outputs=x)\n",
    "\n",
    "# **🔟 编译模型**\n",
    "dynamic_fusion_model.compile(optimizer=Adam(learning_rate=0.001),\n",
    "                             loss='categorical_crossentropy',\n",
    "                             metrics=['accuracy'])\n",
    "\n",
    "# **1️⃣1️⃣ 训练模型**\n",
    "early_stopping = EarlyStopping(monitor='val_loss', patience=10, restore_best_weights=True)\n",
    "reduce_lr = ReduceLROnPlateau(monitor='val_loss', factor=0.5, patience=5, min_lr=1e-6)\n",
    "\n",
    "history = dynamic_fusion_model.fit([features_train_mfcc, features_train_wavelet, features_train_dd, snr_lhr_train_features],\n",
    "                                   Y_train, epochs=20, batch_size=32, validation_split=0.2,\n",
    "                                   callbacks=[reduce_lr, early_stopping])\n",
    "\n",
    "# **1️⃣2️⃣ 评估融合模型**\n",
    "test_loss, test_acc = dynamic_fusion_model.evaluate([features_test_mfcc, features_test_wavelet, features_test_dd, snr_lhr_test_features],\n",
    "                                                    Y_test, verbose=2)\n",
    "print(f\"\\n✅ 动态门控融合模型测试集准确率: {test_acc:.4f}\")\n",
    "\n",
    "# **1️⃣3️⃣ 计算分类报告和混淆矩阵**\n",
    "Y_pred = dynamic_fusion_model.predict([features_test_mfcc, features_test_wavelet, features_test_dd, snr_lhr_test_features])\n",
    "Y_pred_classes = np.argmax(Y_pred, axis=1)\n",
    "Y_true = np.argmax(Y_test, axis=1)\n",
    "\n",
    "print(\"\\n📊 分类报告:\")\n",
    "print(classification_report(Y_true, Y_pred_classes))\n",
    "\n",
    "conf_matrix = confusion_matrix(Y_true, Y_pred_classes)\n",
    "plt.figure(figsize=(8, 6))\n",
    "sns.heatmap(conf_matrix, annot=True, fmt=\"d\", cmap=\"Blues\", xticklabels=np.unique(Y_true), yticklabels=np.unique(Y_true))\n",
    "plt.xlabel(\"Predicted Label\")\n",
    "plt.ylabel(\"True Label\")\n",
    "plt.title(\"Confusion Matrix\")\n",
    "plt.show()\n",
    "\n",
    "# **1️⃣4️⃣ 保存最终融合模型**\n",
    "dynamic_fusion_model.save(r\"D:\\Dataset\\Temp_Results\\Model\\cnn_gate_fusion_with_snr_lhr_weights.keras\")\n",
    "print(\"✅ 动态门控融合模型已保存为 cnn_gate_fusion_with_snr_lhr_weights.keras\")\n"
   ]
  }
 ],
 "metadata": {
  "kernelspec": {
   "display_name": "TarRec",
   "language": "python",
   "name": "python3"
  },
  "language_info": {
   "codemirror_mode": {
    "name": "ipython",
    "version": 3
   },
   "file_extension": ".py",
   "mimetype": "text/x-python",
   "name": "python",
   "nbconvert_exporter": "python",
   "pygments_lexer": "ipython3",
   "version": "3.12.0"
  }
 },
 "nbformat": 4,
 "nbformat_minor": 2
}
