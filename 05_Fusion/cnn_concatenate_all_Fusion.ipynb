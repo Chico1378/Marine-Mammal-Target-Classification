{
 "cells": [
  {
   "cell_type": "code",
   "execution_count": 2,
   "metadata": {},
   "outputs": [
    {
     "name": "stderr",
     "output_type": "stream",
     "text": [
      "d:\\Venv\\envs\\TarRec\\Lib\\site-packages\\keras\\src\\models\\functional.py:238: UserWarning: The structure of `inputs` doesn't match the expected structure.\n",
      "Expected: ['input_layer_2']\n",
      "Received: inputs=Tensor(shape=(32, 128, 128, 1))\n",
      "  warnings.warn(msg)\n"
     ]
    },
    {
     "name": "stdout",
     "output_type": "stream",
     "text": [
      "\u001b[1m15/15\u001b[0m \u001b[32m━━━━━━━━━━━━━━━━━━━━\u001b[0m\u001b[37m\u001b[0m \u001b[1m1s\u001b[0m 44ms/step\n"
     ]
    },
    {
     "name": "stderr",
     "output_type": "stream",
     "text": [
      "d:\\Venv\\envs\\TarRec\\Lib\\site-packages\\keras\\src\\models\\functional.py:238: UserWarning: The structure of `inputs` doesn't match the expected structure.\n",
      "Expected: ['input_layer_2']\n",
      "Received: inputs=Tensor(shape=(None, 128, 128, 1))\n",
      "  warnings.warn(msg)\n"
     ]
    },
    {
     "name": "stdout",
     "output_type": "stream",
     "text": [
      "\u001b[1m 5/15\u001b[0m \u001b[32m━━━━━━\u001b[0m\u001b[37m━━━━━━━━━━━━━━\u001b[0m \u001b[1m0s\u001b[0m 31ms/step"
     ]
    },
    {
     "name": "stderr",
     "output_type": "stream",
     "text": [
      "d:\\Venv\\envs\\TarRec\\Lib\\site-packages\\keras\\src\\models\\functional.py:238: UserWarning: The structure of `inputs` doesn't match the expected structure.\n",
      "Expected: ['input_layer_2']\n",
      "Received: inputs=Tensor(shape=(32, 128, 128, 1, 1))\n",
      "  warnings.warn(msg)\n"
     ]
    },
    {
     "name": "stdout",
     "output_type": "stream",
     "text": [
      "\u001b[1m15/15\u001b[0m \u001b[32m━━━━━━━━━━━━━━━━━━━━\u001b[0m\u001b[37m\u001b[0m \u001b[1m1s\u001b[0m 41ms/step\n"
     ]
    },
    {
     "name": "stderr",
     "output_type": "stream",
     "text": [
      "d:\\Venv\\envs\\TarRec\\Lib\\site-packages\\keras\\src\\models\\functional.py:238: UserWarning: The structure of `inputs` doesn't match the expected structure.\n",
      "Expected: ['input_layer_2']\n",
      "Received: inputs=Tensor(shape=(None, 128, 128, 1, 1))\n",
      "  warnings.warn(msg)\n",
      "d:\\Venv\\envs\\TarRec\\Lib\\site-packages\\keras\\src\\models\\functional.py:238: UserWarning: The structure of `inputs` doesn't match the expected structure.\n",
      "Expected: ['input_layer_6']\n",
      "Received: inputs=Tensor(shape=(32, 128, 128, 1))\n",
      "  warnings.warn(msg)\n"
     ]
    },
    {
     "name": "stdout",
     "output_type": "stream",
     "text": [
      "\u001b[1m15/15\u001b[0m \u001b[32m━━━━━━━━━━━━━━━━━━━━\u001b[0m\u001b[37m\u001b[0m \u001b[1m1s\u001b[0m 39ms/step\n"
     ]
    },
    {
     "name": "stderr",
     "output_type": "stream",
     "text": [
      "d:\\Venv\\envs\\TarRec\\Lib\\site-packages\\keras\\src\\models\\functional.py:238: UserWarning: The structure of `inputs` doesn't match the expected structure.\n",
      "Expected: ['input_layer_6']\n",
      "Received: inputs=Tensor(shape=(None, 128, 128, 1))\n",
      "  warnings.warn(msg)\n"
     ]
    },
    {
     "name": "stdout",
     "output_type": "stream",
     "text": [
      "\u001b[1m4/4\u001b[0m \u001b[32m━━━━━━━━━━━━━━━━━━━━\u001b[0m\u001b[37m\u001b[0m \u001b[1m0s\u001b[0m 36ms/step\n",
      "\u001b[1m4/4\u001b[0m \u001b[32m━━━━━━━━━━━━━━━━━━━━\u001b[0m\u001b[37m\u001b[0m \u001b[1m0s\u001b[0m 35ms/step\n",
      "\u001b[1m4/4\u001b[0m \u001b[32m━━━━━━━━━━━━━━━━━━━━\u001b[0m\u001b[37m\u001b[0m \u001b[1m0s\u001b[0m 39ms/step\n",
      "Epoch 1/20\n",
      "\u001b[1m12/12\u001b[0m \u001b[32m━━━━━━━━━━━━━━━━━━━━\u001b[0m\u001b[37m\u001b[0m \u001b[1m1s\u001b[0m 19ms/step - accuracy: 0.6964 - loss: 0.8540 - val_accuracy: 1.0000 - val_loss: 0.0084 - learning_rate: 0.0010\n",
      "Epoch 2/20\n",
      "\u001b[1m12/12\u001b[0m \u001b[32m━━━━━━━━━━━━━━━━━━━━\u001b[0m\u001b[37m\u001b[0m \u001b[1m0s\u001b[0m 7ms/step - accuracy: 0.9926 - loss: 0.0271 - val_accuracy: 1.0000 - val_loss: 0.0012 - learning_rate: 0.0010\n",
      "Epoch 3/20\n",
      "\u001b[1m12/12\u001b[0m \u001b[32m━━━━━━━━━━━━━━━━━━━━\u001b[0m\u001b[37m\u001b[0m \u001b[1m0s\u001b[0m 11ms/step - accuracy: 1.0000 - loss: 0.0060 - val_accuracy: 1.0000 - val_loss: 6.4924e-04 - learning_rate: 0.0010\n",
      "Epoch 4/20\n",
      "\u001b[1m12/12\u001b[0m \u001b[32m━━━━━━━━━━━━━━━━━━━━\u001b[0m\u001b[37m\u001b[0m \u001b[1m0s\u001b[0m 8ms/step - accuracy: 1.0000 - loss: 0.0035 - val_accuracy: 1.0000 - val_loss: 4.0479e-04 - learning_rate: 0.0010\n",
      "Epoch 5/20\n",
      "\u001b[1m12/12\u001b[0m \u001b[32m━━━━━━━━━━━━━━━━━━━━\u001b[0m\u001b[37m\u001b[0m \u001b[1m0s\u001b[0m 8ms/step - accuracy: 1.0000 - loss: 0.0018 - val_accuracy: 1.0000 - val_loss: 3.1231e-04 - learning_rate: 0.0010\n",
      "Epoch 6/20\n",
      "\u001b[1m12/12\u001b[0m \u001b[32m━━━━━━━━━━━━━━━━━━━━\u001b[0m\u001b[37m\u001b[0m \u001b[1m0s\u001b[0m 8ms/step - accuracy: 1.0000 - loss: 0.0023 - val_accuracy: 1.0000 - val_loss: 2.6207e-04 - learning_rate: 0.0010\n",
      "Epoch 7/20\n",
      "\u001b[1m12/12\u001b[0m \u001b[32m━━━━━━━━━━━━━━━━━━━━\u001b[0m\u001b[37m\u001b[0m \u001b[1m0s\u001b[0m 8ms/step - accuracy: 1.0000 - loss: 0.0031 - val_accuracy: 1.0000 - val_loss: 2.1658e-04 - learning_rate: 0.0010\n",
      "Epoch 8/20\n",
      "\u001b[1m12/12\u001b[0m \u001b[32m━━━━━━━━━━━━━━━━━━━━\u001b[0m\u001b[37m\u001b[0m \u001b[1m0s\u001b[0m 8ms/step - accuracy: 1.0000 - loss: 9.2883e-04 - val_accuracy: 1.0000 - val_loss: 1.8775e-04 - learning_rate: 0.0010\n",
      "Epoch 9/20\n",
      "\u001b[1m12/12\u001b[0m \u001b[32m━━━━━━━━━━━━━━━━━━━━\u001b[0m\u001b[37m\u001b[0m \u001b[1m0s\u001b[0m 7ms/step - accuracy: 1.0000 - loss: 9.3313e-04 - val_accuracy: 1.0000 - val_loss: 1.7275e-04 - learning_rate: 0.0010\n",
      "Epoch 10/20\n",
      "\u001b[1m12/12\u001b[0m \u001b[32m━━━━━━━━━━━━━━━━━━━━\u001b[0m\u001b[37m\u001b[0m \u001b[1m0s\u001b[0m 7ms/step - accuracy: 1.0000 - loss: 8.9573e-04 - val_accuracy: 1.0000 - val_loss: 1.5573e-04 - learning_rate: 0.0010\n",
      "Epoch 11/20\n",
      "\u001b[1m12/12\u001b[0m \u001b[32m━━━━━━━━━━━━━━━━━━━━\u001b[0m\u001b[37m\u001b[0m \u001b[1m0s\u001b[0m 8ms/step - accuracy: 1.0000 - loss: 0.0027 - val_accuracy: 1.0000 - val_loss: 1.3198e-04 - learning_rate: 0.0010\n",
      "Epoch 12/20\n",
      "\u001b[1m12/12\u001b[0m \u001b[32m━━━━━━━━━━━━━━━━━━━━\u001b[0m\u001b[37m\u001b[0m \u001b[1m0s\u001b[0m 8ms/step - accuracy: 1.0000 - loss: 6.4890e-04 - val_accuracy: 1.0000 - val_loss: 1.1927e-04 - learning_rate: 0.0010\n",
      "Epoch 13/20\n",
      "\u001b[1m12/12\u001b[0m \u001b[32m━━━━━━━━━━━━━━━━━━━━\u001b[0m\u001b[37m\u001b[0m \u001b[1m0s\u001b[0m 7ms/step - accuracy: 1.0000 - loss: 4.3085e-04 - val_accuracy: 1.0000 - val_loss: 1.0983e-04 - learning_rate: 0.0010\n",
      "Epoch 14/20\n",
      "\u001b[1m12/12\u001b[0m \u001b[32m━━━━━━━━━━━━━━━━━━━━\u001b[0m\u001b[37m\u001b[0m \u001b[1m0s\u001b[0m 7ms/step - accuracy: 1.0000 - loss: 5.8585e-04 - val_accuracy: 1.0000 - val_loss: 1.0130e-04 - learning_rate: 0.0010\n",
      "Epoch 15/20\n",
      "\u001b[1m12/12\u001b[0m \u001b[32m━━━━━━━━━━━━━━━━━━━━\u001b[0m\u001b[37m\u001b[0m \u001b[1m0s\u001b[0m 8ms/step - accuracy: 1.0000 - loss: 8.7414e-04 - val_accuracy: 1.0000 - val_loss: 9.2199e-05 - learning_rate: 0.0010\n",
      "Epoch 16/20\n",
      "\u001b[1m12/12\u001b[0m \u001b[32m━━━━━━━━━━━━━━━━━━━━\u001b[0m\u001b[37m\u001b[0m \u001b[1m0s\u001b[0m 8ms/step - accuracy: 1.0000 - loss: 5.5123e-04 - val_accuracy: 1.0000 - val_loss: 8.8866e-05 - learning_rate: 5.0000e-04\n",
      "Epoch 17/20\n",
      "\u001b[1m12/12\u001b[0m \u001b[32m━━━━━━━━━━━━━━━━━━━━\u001b[0m\u001b[37m\u001b[0m \u001b[1m0s\u001b[0m 7ms/step - accuracy: 1.0000 - loss: 7.9407e-04 - val_accuracy: 1.0000 - val_loss: 8.4843e-05 - learning_rate: 5.0000e-04\n",
      "Epoch 18/20\n",
      "\u001b[1m12/12\u001b[0m \u001b[32m━━━━━━━━━━━━━━━━━━━━\u001b[0m\u001b[37m\u001b[0m \u001b[1m0s\u001b[0m 7ms/step - accuracy: 1.0000 - loss: 2.8876e-04 - val_accuracy: 1.0000 - val_loss: 8.2072e-05 - learning_rate: 5.0000e-04\n",
      "Epoch 19/20\n",
      "\u001b[1m12/12\u001b[0m \u001b[32m━━━━━━━━━━━━━━━━━━━━\u001b[0m\u001b[37m\u001b[0m \u001b[1m0s\u001b[0m 7ms/step - accuracy: 1.0000 - loss: 4.1036e-04 - val_accuracy: 1.0000 - val_loss: 7.9303e-05 - learning_rate: 5.0000e-04\n",
      "Epoch 20/20\n",
      "\u001b[1m12/12\u001b[0m \u001b[32m━━━━━━━━━━━━━━━━━━━━\u001b[0m\u001b[37m\u001b[0m \u001b[1m0s\u001b[0m 7ms/step - accuracy: 1.0000 - loss: 5.2351e-04 - val_accuracy: 1.0000 - val_loss: 7.4846e-05 - learning_rate: 5.0000e-04\n",
      "4/4 - 0s - 9ms/step - accuracy: 0.9658 - loss: 0.1559\n",
      "\n",
      "✅ 融合模型测试集准确率: 0.9658\n",
      "\u001b[1m4/4\u001b[0m \u001b[32m━━━━━━━━━━━━━━━━━━━━\u001b[0m\u001b[37m\u001b[0m \u001b[1m0s\u001b[0m 10ms/step\n",
      "\n",
      "📊 分类报告:\n",
      "              precision    recall  f1-score   support\n",
      "\n",
      "           0       0.97      0.92      0.95        39\n",
      "           1       1.00      1.00      1.00        39\n",
      "           2       0.93      0.97      0.95        39\n",
      "\n",
      "    accuracy                           0.97       117\n",
      "   macro avg       0.97      0.97      0.97       117\n",
      "weighted avg       0.97      0.97      0.97       117\n",
      "\n"
     ]
    },
    {
     "data": {
      "image/png": "[encoded data removed]",
      "text/plain": [
       "<Figure size 800x600 with 2 Axes>"
      ]
     },
     "metadata": {},
     "output_type": "display_data"
    },
    {
     "name": "stdout",
     "output_type": "stream",
     "text": [
      "✅ 融合模型已保存为 cnn_concatenate_fusion_all_model.keras\n"
     ]
    }
   ],
   "source": [
    "import os \n",
    "import random\n",
    "import numpy as np\n",
    "import tensorflow as tf\n",
    "from tensorflow.keras.models import Model, load_model\n",
    "from tensorflow.keras.layers import Input, Dense, Dropout\n",
    "from tensorflow.keras.utils import to_categorical\n",
    "from tensorflow.keras.optimizers import Adam\n",
    "from tensorflow.keras.callbacks import EarlyStopping, ReduceLROnPlateau\n",
    "from sklearn.metrics import classification_report, confusion_matrix\n",
    "import seaborn as sns\n",
    "import matplotlib.pyplot as plt\n",
    "\n",
    "# **设置随机种子**\n",
    "SEED = 300   #300的时候效果不错\n",
    "np.random.seed(SEED)\n",
    "tf.random.set_seed(SEED)\n",
    "random.seed(SEED)\n",
    "os.environ['PYTHONHASHSEED'] = str(SEED)\n",
    "\n",
    "# **1️⃣ 加载训练好的 CNN 模型**\n",
    "model_mfcc = load_model(r\"D:\\Dataset\\Marine-Mammal-Target-Classification\\03_CNN\\cnn_MFCC_model.keras\")\n",
    "model_wavelet = load_model(r\"D:\\Dataset\\Marine-Mammal-Target-Classification\\03_CNN\\cnn_wavelet_model_abs.keras\")\n",
    "model_dd = load_model(r\"D:\\Dataset\\Marine-Mammal-Target-Classification\\03_CNN\\cnn_DelayDoppler_model.keras\")\n",
    "\n",
    "# **2️⃣ 提取特征层**\n",
    "feature_extractor_mfcc = Model(inputs=model_mfcc.inputs, outputs=model_mfcc.get_layer(\"dense_4\").output)\n",
    "feature_extractor_wavelet = Model(inputs=model_wavelet.inputs, outputs=model_wavelet.get_layer(\"dense_4\").output)\n",
    "feature_extractor_dd = Model(inputs=model_dd.inputs, outputs=model_dd.get_layer(\"dense_12\").output)\n",
    "\n",
    "# **3️⃣ 加载训练数据和测试数据**\n",
    "X_train_mfcc = np.load(r\"D:\\Dataset\\Temp_Results\\MFCC\\X_train_mfcc_cnn.npy\")\n",
    "X_train_wavelet = np.load(r\"D:\\Dataset\\Temp_Results\\Wavelet\\X_train_cwt_abs.npy\")\n",
    "X_train_wavelet = np.expand_dims(X_train_wavelet, axis=-1)\n",
    "X_train_dd = np.load(r\"D:\\Dataset\\Temp_Results\\DelayDoppler\\X_train_dd_cnn.npy\")\n",
    "Y_train = np.load(r\"D:\\Dataset\\Temp_Results\\Train_Test\\y_train.npy\")\n",
    "\n",
    "X_test_mfcc = np.load(r\"D:\\Dataset\\Temp_Results\\MFCC\\X_test_mfcc_cnn.npy\")\n",
    "X_test_wavelet = np.load(r\"D:\\Dataset\\Temp_Results\\Wavelet\\X_test_cwt_abs.npy\")\n",
    "X_test_wavelet = np.expand_dims(X_test_wavelet, axis=-1)\n",
    "X_test_dd = np.load(r\"D:\\Dataset\\Temp_Results\\DelayDoppler\\X_test_dd_cnn.npy\")\n",
    "Y_test = np.load(r\"D:\\Dataset\\Temp_Results\\Train_Test\\y_test.npy\")\n",
    "\n",
    "# **4️⃣ 归一化数据**\n",
    "X_train_mfcc = X_train_mfcc.astype(np.float32) / 255.0\n",
    "X_train_wavelet = X_train_wavelet.astype(np.float32) / 255.0\n",
    "X_train_dd = X_train_dd.astype(np.float32) / 255.0\n",
    "\n",
    "X_test_mfcc = X_test_mfcc.astype(np.float32) / 255.0\n",
    "X_test_wavelet = X_test_wavelet.astype(np.float32) / 255.0\n",
    "X_test_dd = X_test_dd.astype(np.float32) / 255.0\n",
    "\n",
    "# **5️⃣ 提取三个模型的特征**\n",
    "features_train_mfcc = feature_extractor_mfcc.predict(X_train_mfcc)\n",
    "features_train_wavelet = feature_extractor_wavelet.predict(X_train_wavelet)\n",
    "features_train_dd = feature_extractor_dd.predict(X_train_dd)\n",
    "\n",
    "features_test_mfcc = feature_extractor_mfcc.predict(X_test_mfcc)\n",
    "features_test_wavelet = feature_extractor_wavelet.predict(X_test_wavelet)\n",
    "features_test_dd = feature_extractor_dd.predict(X_test_dd)\n",
    "\n",
    "# **6️⃣ 拼接特征**\n",
    "fused_train_features = np.concatenate([features_train_mfcc, features_train_wavelet, features_train_dd], axis=1)\n",
    "fused_test_features = np.concatenate([features_test_mfcc, features_test_wavelet, features_test_dd], axis=1)\n",
    "\n",
    "# **7️⃣ 处理标签**\n",
    "num_classes = len(np.unique(Y_train))\n",
    "Y_train = to_categorical(Y_train, num_classes)\n",
    "Y_test = to_categorical(Y_test, num_classes)\n",
    "\n",
    "# **8️⃣ 构建融合模型**\n",
    "input_dim = fused_train_features.shape[1]\n",
    "input_layer = Input(shape=(input_dim,))\n",
    "\n",
    "x = Dense(128, activation='relu')(input_layer)\n",
    "x = Dropout(0.4)(x)\n",
    "x = Dense(num_classes, activation='softmax')(x)\n",
    "\n",
    "fusion_model = Model(inputs=input_layer, outputs=x)\n",
    "\n",
    "# **9️⃣ 编译模型**\n",
    "fusion_model.compile(optimizer=Adam(learning_rate=0.001),\n",
    "                     loss='categorical_crossentropy',\n",
    "                     metrics=['accuracy'])\n",
    "\n",
    "# **🔟 训练模型**\n",
    "early_stopping = EarlyStopping(monitor='val_loss', patience=10, restore_best_weights=True)\n",
    "reduce_lr = ReduceLROnPlateau(monitor='val_loss', factor=0.5, patience=5, min_lr=1e-6)\n",
    "\n",
    "history = fusion_model.fit(fused_train_features, Y_train, epochs=20, batch_size=32,\n",
    "                           validation_split=0.2, callbacks=[reduce_lr, early_stopping])\n",
    "\n",
    "# **1️⃣1️⃣ 评估融合模型**\n",
    "test_loss, test_acc = fusion_model.evaluate(fused_test_features, Y_test, verbose=2)\n",
    "print(f\"\\n✅ 融合模型测试集准确率: {test_acc:.4f}\")\n",
    "\n",
    "# **1️⃣2️⃣ 计算分类报告和混淆矩阵**\n",
    "Y_pred = fusion_model.predict(fused_test_features)\n",
    "Y_pred_classes = np.argmax(Y_pred, axis=1)\n",
    "Y_true = np.argmax(Y_test, axis=1)\n",
    "\n",
    "print(\"\\n📊 分类报告:\")\n",
    "print(classification_report(Y_true, Y_pred_classes))\n",
    "\n",
    "conf_matrix = confusion_matrix(Y_true, Y_pred_classes)\n",
    "plt.figure(figsize=(8, 6))\n",
    "sns.heatmap(conf_matrix, annot=True, fmt=\"d\", cmap=\"Blues\", xticklabels=np.unique(Y_true), yticklabels=np.unique(Y_true))\n",
    "plt.xlabel(\"Predicted Label\")\n",
    "plt.ylabel(\"True Label\")\n",
    "plt.title(\"Confusion Matrix\")\n",
    "plt.show()\n",
    "\n",
    "# **1️⃣3️⃣ 保存最终融合模型**\n",
    "fusion_model.save(r\"D:\\Dataset\\Temp_Results\\Model\\cnn_concatenate_fusion_all_model.keras\")\n",
    "print(\"✅ 融合模型已保存为 cnn_concatenate_fusion_all_model.keras\")\n"
   ]
  }
 ],
 "metadata": {
  "kernelspec": {
   "display_name": "TarRec",
   "language": "python",
   "name": "python3"
  },
  "language_info": {
   "codemirror_mode": {
    "name": "ipython",
    "version": 3
   },
   "file_extension": ".py",
   "mimetype": "text/x-python",
   "name": "python",
   "nbconvert_exporter": "python",
   "pygments_lexer": "ipython3",
   "version": "3.12.0"
  }
 },
 "nbformat": 4,
 "nbformat_minor": 2
}
