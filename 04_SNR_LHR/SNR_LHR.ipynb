{
 "cells": [
  {
   "cell_type": "code",
   "execution_count": 9,
   "metadata": {},
   "outputs": [
    {
     "name": "stdout",
     "output_type": "stream",
     "text": [
      "✅ train 数据处理完成，结果已保存。\n",
      "✅ test 数据处理完成，结果已保存。\n"
     ]
    }
   ],
   "source": [
    "import os\n",
    "import numpy as np\n",
    "import librosa\n",
    "\n",
    "# 定义数据路径\n",
    "base_path = r\"D:\\Dataset\\Temp_Results\\Train_Test\"\n",
    "output_path = r\"D:\\Dataset\\Temp_Results\\SNRandLHR\"\n",
    "os.makedirs(output_path, exist_ok=True)\n",
    "\n",
    "# 读取音频数据和对应的采样率及 ID\n",
    "X_train = np.load(os.path.join(base_path, \"X_train.npy\"), allow_pickle=True)\n",
    "X_test = np.load(os.path.join(base_path, \"X_test.npy\"), allow_pickle=True)\n",
    "sr_train = np.load(os.path.join(base_path, \"sr_train.npy\"), allow_pickle=True)\n",
    "sr_test = np.load(os.path.join(base_path, \"sr_test.npy\"), allow_pickle=True)\n",
    "ids_train = np.load(os.path.join(base_path, \"ids_train.npy\"), allow_pickle=True)\n",
    "ids_test = np.load(os.path.join(base_path, \"ids_test.npy\"), allow_pickle=True)\n",
    "\n",
    "def compute_snr_lhr_adaptive(signal, sample_rate):\n",
    "    fft_signal = np.fft.fft(signal)\n",
    "    psd_signal = np.abs(fft_signal) ** 2\n",
    "    freqs = np.fft.fftfreq(len(signal), d=1/sample_rate)\n",
    "    freqs = freqs[:len(freqs) // 2]\n",
    "    psd_signal = psd_signal[:len(psd_signal) // 2]\n",
    "    \n",
    "    spectral_centroid = np.sum(freqs * psd_signal) / (np.sum(psd_signal) + 1e-8)\n",
    "    geometric_mean = np.exp(np.mean(np.log(psd_signal + 1e-8)))\n",
    "    arithmetic_mean = np.mean(psd_signal)\n",
    "    sfm = geometric_mean / (arithmetic_mean + 1e-8)\n",
    "    threshold = np.percentile(psd_signal, 90 * (1 - sfm))\n",
    "    signal_power = np.sum(psd_signal[psd_signal > threshold])\n",
    "    noise_power = np.sum(psd_signal[psd_signal <= threshold])\n",
    "    snr = 10 * np.log10(signal_power / (noise_power + 1e-8))\n",
    "    \n",
    "    low_freq_power = np.sum(psd_signal[freqs < spectral_centroid])\n",
    "    high_freq_power = np.sum(psd_signal[freqs >= spectral_centroid])\n",
    "    lhr = low_freq_power / (high_freq_power + 1e-8)\n",
    "    \n",
    "    return snr, lhr\n",
    "\n",
    "def process_audio_data(X, sr, ids, set_name):\n",
    "    snr_lhr_list = []\n",
    "    \n",
    "    for i, signal in enumerate(X):\n",
    "        snr, lhr = compute_snr_lhr_adaptive(signal, sr[i])\n",
    "        snr_lhr_list.append([ids[i], snr, lhr])\n",
    "    \n",
    "    snr_lhr_array = np.array(snr_lhr_list, dtype=object)\n",
    "    np.save(os.path.join(output_path, f\"SNR_LHR_{set_name}.npy\"), snr_lhr_array)\n",
    "    print(f\"✅ {set_name} 数据处理完成，结果已保存。\")\n",
    "\n",
    "# 处理训练和测试数据\n",
    "process_audio_data(X_train, sr_train, ids_train, \"train\")\n",
    "process_audio_data(X_test, sr_test, ids_test, \"test\")\n"
   ]
  },
  {
   "cell_type": "code",
   "execution_count": 10,
   "metadata": {},
   "outputs": [
    {
     "name": "stdout",
     "output_type": "stream",
     "text": [
      "[[np.str_('5903700F_seg0') np.float32(25.175419) np.float32(14.649713)]\n",
      " [np.str_('59037013_seg7') np.float32(21.275179) np.float32(6.195104)]\n",
      " [np.str_('5903700G_seg6') np.float32(27.6208) np.float32(17.714106)]\n",
      " ...\n",
      " [np.str_('61072032_seg17') np.float32(15.2527485) np.float32(1.5869788)]\n",
      " [np.str_('6107200Z_seg1') np.float32(9.539703) np.float32(1.0238315)]\n",
      " [np.str_('59037007_seg10') np.float32(21.410053) np.float32(23.620064)]]\n"
     ]
    }
   ],
   "source": [
    "X_train_SNR_LHR = np.load(r\"D:\\Dataset\\Temp_Results\\SNRandLHR\\SNR_LHR_train.npy\", allow_pickle=True)\n",
    "print(X_train_SNR_LHR)\n"
   ]
  }
 ],
 "metadata": {
  "kernelspec": {
   "display_name": "TarRec",
   "language": "python",
   "name": "python3"
  },
  "language_info": {
   "codemirror_mode": {
    "name": "ipython",
    "version": 3
   },
   "file_extension": ".py",
   "mimetype": "text/x-python",
   "name": "python",
   "nbconvert_exporter": "python",
   "pygments_lexer": "ipython3",
   "version": "3.12.0"
  }
 },
 "nbformat": 4,
 "nbformat_minor": 2
}
