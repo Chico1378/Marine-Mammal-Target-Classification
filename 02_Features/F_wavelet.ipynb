{
 "cells": [
  {
   "cell_type": "code",
   "execution_count": 2,
   "metadata": {},
   "outputs": [],
   "source": [
    "import os\n",
    "import numpy as np\n",
    "# 读取训练集、测试集\n",
    "X_train = np.load(r\"D:\\Dataset\\Temp_Results\\Train_Test\\X_train.npy\")\n",
    "X_test = np.load(r\"D:\\Dataset\\Temp_Results\\Train_Test\\X_test.npy\")\n",
    "Y_train = np.load(r\"D:\\Dataset\\Temp_Results\\Train_Test\\Y_train.npy\")\n",
    "Y_test = np.load(r\"D:\\Dataset\\Temp_Results\\Train_Test\\Y_test.npy\")\n",
    "ids_test = np.load(r\"D:\\Dataset\\Temp_Results\\Train_Test\\ids_test.npy\")\n",
    "ids_train = np.load(r\"D:\\Dataset\\Temp_Results\\Train_Test\\ids_train.npy\")"
   ]
  },
  {
   "cell_type": "code",
   "execution_count": 3,
   "metadata": {},
   "outputs": [
    {
     "name": "stderr",
     "output_type": "stream",
     "text": [
      "Processing CWT:   0%|          | 0/468 [00:00<?, ?sample/s]"
     ]
    },
    {
     "name": "stderr",
     "output_type": "stream",
     "text": [
      "Processing CWT: 100%|██████████| 468/468 [02:54<00:00,  2.68sample/s]"
     ]
    },
    {
     "name": "stdout",
     "output_type": "stream",
     "text": [
      "✅ 小波变换完成！二维特征已保存至 D:\\Dataset\\Temp_Results\\Wavelet\\X_train_cwt_abs.npy\n"
     ]
    },
    {
     "name": "stderr",
     "output_type": "stream",
     "text": [
      "\n"
     ]
    }
   ],
   "source": [
    "# 处理X_train\n",
    "import os\n",
    "import numpy as np\n",
    "import pywt  # 小波变换库\n",
    "import cv2  # OpenCV 用于调整图像尺寸\n",
    "from tqdm import tqdm  # 进度条库\n",
    "\n",
    "# 选择小波基\n",
    "wavelet = 'morl'\n",
    "scales = np.arange(1, 128)  # 设定尺度范围\n",
    "target_size = (128, 128)  # CNN 适配的目标尺寸\n",
    "\n",
    "# 初始化存储矩阵 (假设所有信号长度相同)\n",
    "num_samples = X_train.shape[0]\n",
    "cwt_features = np.zeros((num_samples, target_size[0], target_size[1]), dtype=np.uint8)  # (样本数, 128, 128)\n",
    "\n",
    "# 遍历所有样本并计算小波变换 (使用 tqdm 进度条)\n",
    "for i, signal in enumerate(tqdm(X_train, desc=\"Processing CWT\", unit=\"sample\")):\n",
    "    # 归一化到 [-1, 1]\n",
    "    signal = signal.astype(np.float32)\n",
    "    signal = signal / np.max(np.abs(signal))\n",
    "\n",
    "    # 计算小波变换 (生成二维时频图)\n",
    "    coefficients, _ = pywt.cwt(signal, scales, wavelet)\n",
    "\n",
    "   # 取绝对值并归一化到 [0, 255]\n",
    "    cwt_image = np.abs(coefficients)\n",
    "    cwt_image = (cwt_image - np.min(cwt_image)) / (np.max(cwt_image) - np.min(cwt_image))  # 归一化到 [0, 1]\n",
    "    coef_img = (cwt_image * 255).astype(np.uint8)  # 转换为 uint8 格式\n",
    "\n",
    "    # **调整尺寸到 (128×128)**\n",
    "    coef_resized = cv2.resize(coef_img, target_size, interpolation=cv2.INTER_CUBIC)\n",
    "\n",
    "    # 存入特征矩阵\n",
    "    cwt_features[i] = coef_resized\n",
    "\n",
    "# **整理成 CNN 输入格式 (num_samples, 128, 128, 1)**\n",
    "cwt_features = np.expand_dims(cwt_features, axis=-1)\n",
    "\n",
    "# 保存转换后的二维特征\n",
    "output_path = r\"D:\\Dataset\\Temp_Results\\Wavelet\\X_train_cwt_abs.npy\"\n",
    "np.save(output_path, cwt_features)\n",
    "\n",
    "print(f\"✅ 小波变换完成！二维特征已保存至 {output_path}\")\n"
   ]
  },
  {
   "cell_type": "code",
   "execution_count": 4,
   "metadata": {},
   "outputs": [
    {
     "name": "stderr",
     "output_type": "stream",
     "text": [
      "Processing CWT: 100%|██████████| 117/117 [00:45<00:00,  2.58sample/s]"
     ]
    },
    {
     "name": "stdout",
     "output_type": "stream",
     "text": [
      "✅ 小波变换完成！二维特征已保存至 D:\\Dataset\\Temp_Results\\Wavelet\\X_test_cwt_abs.npy\n"
     ]
    },
    {
     "name": "stderr",
     "output_type": "stream",
     "text": [
      "\n"
     ]
    }
   ],
   "source": [
    "#处理X_test\n",
    "import os\n",
    "import numpy as np\n",
    "import pywt  # 小波变换库\n",
    "import cv2  # OpenCV 用于调整图像尺寸\n",
    "from tqdm import tqdm  # 进度条库\n",
    "\n",
    "# 选择小波基\n",
    "wavelet = 'morl'\n",
    "scales = np.arange(1, 128)  # 设定尺度范围\n",
    "target_size = (128, 128)  # CNN 适配的目标尺寸\n",
    "\n",
    "# 初始化存储矩阵 (假设所有信号长度相同)\n",
    "num_samples = X_test.shape[0]\n",
    "cwt_features = np.zeros((num_samples, target_size[0], target_size[1]), dtype=np.uint8)  # (样本数, 128, 128)\n",
    "\n",
    "# 遍历所有样本并计算小波变换 (使用 tqdm 进度条)\n",
    "for i, signal in enumerate(tqdm(X_test, desc=\"Processing CWT\", unit=\"sample\")):\n",
    "    # 归一化到 [-1, 1]\n",
    "    signal = signal.astype(np.float32)\n",
    "    signal = signal / np.max(np.abs(signal))\n",
    "\n",
    "    # 计算小波变换 (生成二维时频图)\n",
    "    coefficients, _ = pywt.cwt(signal, scales, wavelet)\n",
    "\n",
    "    # 取绝对值并归一化到 [0, 255]\n",
    "    cwt_image = np.abs(coefficients)\n",
    "    cwt_image = (cwt_image - np.min(cwt_image)) / (np.max(cwt_image) - np.min(cwt_image))  # 归一化到 [0, 1]\n",
    "    coef_img = (cwt_image * 255).astype(np.uint8)  # 转换为 uint8 格式\n",
    "\n",
    "    # **调整尺寸到 (128×128)**\n",
    "    coef_resized = cv2.resize(coef_img, target_size, interpolation=cv2.INTER_CUBIC)\n",
    "\n",
    "    # 存入特征矩阵\n",
    "    cwt_features[i] = coef_resized\n",
    "\n",
    "# **整理成 CNN 输入格式 (num_samples, 128, 128, 1)**\n",
    "cwt_features = np.expand_dims(cwt_features, axis=-1)\n",
    "\n",
    "# 保存转换后的二维特征\n",
    "output_path = r\"D:\\Dataset\\Temp_Results\\Wavelet\\X_test_cwt_abs.npy\"\n",
    "np.save(output_path, cwt_features)\n",
    "\n",
    "print(f\"✅ 小波变换完成！二维特征已保存至 {output_path}\")\n"
   ]
  },
  {
   "cell_type": "code",
   "execution_count": 5,
   "metadata": {},
   "outputs": [
    {
     "name": "stdout",
     "output_type": "stream",
     "text": [
      "(117, 128, 128, 1)\n"
     ]
    }
   ],
   "source": [
    "print(cwt_features.shape)"
   ]
  },
  {
   "cell_type": "code",
   "execution_count": 1,
   "metadata": {},
   "outputs": [
    {
     "ename": "NameError",
     "evalue": "name 'num_samples' is not defined",
     "output_type": "error",
     "traceback": [
      "\u001b[31m---------------------------------------------------------------------------\u001b[39m",
      "\u001b[31mNameError\u001b[39m                                 Traceback (most recent call last)",
      "\u001b[36mCell\u001b[39m\u001b[36m \u001b[39m\u001b[32mIn[1]\u001b[39m\u001b[32m, line 5\u001b[39m\n\u001b[32m      2\u001b[39m \u001b[38;5;28;01mimport\u001b[39;00m\u001b[38;5;250m \u001b[39m\u001b[34;01mmatplotlib\u001b[39;00m\u001b[34;01m.\u001b[39;00m\u001b[34;01mpyplot\u001b[39;00m\u001b[38;5;250m \u001b[39m\u001b[38;5;28;01mas\u001b[39;00m\u001b[38;5;250m \u001b[39m\u001b[34;01mplt\u001b[39;00m\n\u001b[32m      4\u001b[39m \u001b[38;5;66;03m# 随机选择 3 个样本索引\u001b[39;00m\n\u001b[32m----> \u001b[39m\u001b[32m5\u001b[39m random_indices = random.sample(\u001b[38;5;28mrange\u001b[39m(\u001b[43mnum_samples\u001b[49m), \u001b[32m3\u001b[39m)\n\u001b[32m      7\u001b[39m \u001b[38;5;66;03m# **绘制随机选择的 3 张小波变换图像**\u001b[39;00m\n\u001b[32m      8\u001b[39m plt.figure(figsize=(\u001b[32m12\u001b[39m, \u001b[32m4\u001b[39m))\n",
      "\u001b[31mNameError\u001b[39m: name 'num_samples' is not defined"
     ]
    }
   ],
   "source": [
    "import random\n",
    "import matplotlib.pyplot as plt\n",
    "\n",
    "# 随机选择 3 个样本索引\n",
    "random_indices = random.sample(range(num_samples), 3)\n",
    "\n",
    "# **绘制随机选择的 3 张小波变换图像**\n",
    "plt.figure(figsize=(12, 4))\n",
    "for i, idx in enumerate(random_indices):\n",
    "    plt.subplot(1, 3, i + 1)\n",
    "    plt.imshow(cwt_features[idx], cmap='jet', aspect='auto')\n",
    "    plt.colorbar(label=\"Magnitude\")\n",
    "    plt.title(f\"Sample {idx}\")\n",
    "    plt.axis(\"off\")  # 关闭坐标轴\n",
    "plt.show()"
   ]
  }
 ],
 "metadata": {
  "kernelspec": {
   "display_name": "TarRec",
   "language": "python",
   "name": "python3"
  },
  "language_info": {
   "codemirror_mode": {
    "name": "ipython",
    "version": 3
   },
   "file_extension": ".py",
   "mimetype": "text/x-python",
   "name": "python",
   "nbconvert_exporter": "python",
   "pygments_lexer": "ipython3",
   "version": "3.12.0"
  }
 },
 "nbformat": 4,
 "nbformat_minor": 2
}
